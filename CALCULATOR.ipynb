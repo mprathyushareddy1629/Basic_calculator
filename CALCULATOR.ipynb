{
 "cells": [
  {
   "cell_type": "code",
   "execution_count": 14,
   "id": "dd310458",
   "metadata": {},
   "outputs": [
    {
     "name": "stdout",
     "output_type": "stream",
     "text": [
      "******CALCULATOR********\n",
      "CHOOSE THE OPERATION TO PERFORM\n",
      " {1: 'square_root', 2: 'sin', 3: 'cos', 4: 'tan', 5: 'addition', 6: 'substraction', 7: 'multiplication', 8: 'division', 9: 'power', 10: 'mod'}\n",
      "56\n",
      "enter valid option\n"
     ]
    }
   ],
   "source": [
    "#Calculator\n",
    "#Authored by Prathyusha\n",
    "#Date: 16-02-2023\n",
    "#version:\n",
    "\n",
    "print(\"******CALCULATOR********\")\n",
    "#importing math library \n",
    "import math\n",
    "\n",
    "#Dictionary with operations\n",
    "choice={1:'square_root',2:'sin',3:'cos',4:'tan',5:'addition',6:'substraction',7:'multiplication',8:'division',9:'power',10:'mod'}\n",
    "print(\"CHOOSE THE OPERATION TO PERFORM\\n\",choice)\n",
    "\n",
    "\n",
    "c=int(input()) #selecting the operation\n",
    "\n",
    "if c==1 or c==2 or c==3 or c==4: #choosing for the first 4 operations\n",
    "    val1=int(input(\"Enter value :\")) #entering 1st value\n",
    "    if c==1:\n",
    "        print(math.sqrt(val1))  #square root\n",
    "    elif c==2:\n",
    "        print(math.sin(val1)) #sine value\n",
    "    elif c==3:\n",
    "        print(math.cos(val1)) #cosine value\n",
    "    elif c==4:\n",
    "        print(math.tan(val1)) #tan value\n",
    "elif c==5 or c==6 or c==7 or c==8 or c==9 or c==10:  #choosing for the next operations from choices 5 to 10\n",
    "        val1=int(input(\"Enter 1st value :\")) #entering 1st value\n",
    "        val2=int(input(\"Enter 2nd value :\")) #entering 2nd value\n",
    "        if c==5:\n",
    "            print(val1+val2)  #addition\n",
    "        elif c==6:\n",
    "            print(val1-val2) #substraction\n",
    "        elif c==7:\n",
    "            print(val1*val2) #multiplication\n",
    "        elif c==8:\n",
    "            if val2==0:\n",
    "                print(\"Infinity\")  \n",
    "            else:\n",
    "                print(val1/val2) #division\n",
    "        elif c==9:\n",
    "            print(val1**val2) #power\n",
    "        elif c==10:\n",
    "            if val2==0:\n",
    "                print(\"0\")\n",
    "            else:\n",
    "                print(val1%val2) #modulus \n",
    "else:\n",
    "    print(\"enter valid option\") #if the entered choice is incorrect\n"
   ]
  },
  {
   "cell_type": "code",
   "execution_count": null,
   "id": "31de246e",
   "metadata": {},
   "outputs": [],
   "source": []
  },
  {
   "cell_type": "code",
   "execution_count": null,
   "id": "f3faa452",
   "metadata": {},
   "outputs": [],
   "source": []
  }
 ],
 "metadata": {
  "kernelspec": {
   "display_name": "Python 3",
   "language": "python",
   "name": "python3"
  },
  "language_info": {
   "codemirror_mode": {
    "name": "ipython",
    "version": 3
   },
   "file_extension": ".py",
   "mimetype": "text/x-python",
   "name": "python",
   "nbconvert_exporter": "python",
   "pygments_lexer": "ipython3",
   "version": "3.8.8"
  }
 },
 "nbformat": 4,
 "nbformat_minor": 5
}
